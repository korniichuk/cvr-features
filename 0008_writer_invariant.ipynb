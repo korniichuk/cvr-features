{
 "cells": [
  {
   "cell_type": "markdown",
   "metadata": {},
   "source": [
    "# 0008 Writer invariant"
   ]
  },
  {
   "cell_type": "code",
   "execution_count": 1,
   "metadata": {},
   "outputs": [],
   "source": [
    "import pandas as pd\n",
    "import spacy\n",
    "\n",
    "from writer_invariant import ans, pn, avs, pv, aas, pa, apcps, ppcp, neg"
   ]
  },
  {
   "cell_type": "code",
   "execution_count": 2,
   "metadata": {},
   "outputs": [],
   "source": [
    "df = pd.read_pickle('0000_features_20201124.pkl')  # 465"
   ]
  },
  {
   "cell_type": "markdown",
   "metadata": {},
   "source": [
    "* ans -- Average number of Nouns per Sentence (**new**)\n",
    "* pn -- Percentage of Nouns in text (**new**)\n",
    "* avs -- Average number of Verbs per Sentence (**new**)\n",
    "* pv -- Percentage of Verbs in text (**new**)\n",
    "* aas -- Average number of Adjectives per Sentence (**new**)\n",
    "* pa -- Percentage of Adjectives in text (**new**)\n",
    "* apcps -- Average number of Prepositions, Conjunctions, and Particles per Sentence (**new**)\n",
    "* ppcp -- Percentage of Prepositions, Conjunctions, and Particles in text (**new**)\n",
    "* neg -- average number of negations per sentence (**new**)\n",
    "* negations -- negation(s) in text yes/no (**new**)"
   ]
  },
  {
   "cell_type": "code",
   "execution_count": 3,
   "metadata": {},
   "outputs": [],
   "source": [
    "nlp = spacy.load('en_core_web_lg')"
   ]
  },
  {
   "cell_type": "markdown",
   "metadata": {},
   "source": [
    "## Nouns"
   ]
  },
  {
   "cell_type": "code",
   "execution_count": 4,
   "metadata": {},
   "outputs": [
    {
     "name": "stdout",
     "output_type": "stream",
     "text": [
      "CPU times: user 53 s, sys: 404 ms, total: 53.4 s\n",
      "Wall time: 53.4 s\n"
     ]
    }
   ],
   "source": [
    "%%time\n",
    "\n",
    "df['ans'] = df.text.apply(ans, args=(nlp,))\n",
    "df['pn'] = df.text.apply(pn, args=(nlp,))"
   ]
  },
  {
   "cell_type": "code",
   "execution_count": 5,
   "metadata": {},
   "outputs": [
    {
     "data": {
      "text/plain": [
       "count    465.000000\n",
       "mean       2.228908\n",
       "std        0.608777\n",
       "min        0.565217\n",
       "25%        1.964286\n",
       "50%        2.260870\n",
       "75%        2.454545\n",
       "max        5.764706\n",
       "Name: ans, dtype: float64"
      ]
     },
     "execution_count": 5,
     "metadata": {},
     "output_type": "execute_result"
    }
   ],
   "source": [
    "df.ans.describe()"
   ]
  },
  {
   "cell_type": "code",
   "execution_count": 6,
   "metadata": {},
   "outputs": [
    {
     "data": {
      "text/plain": [
       "count    465.000000\n",
       "mean       0.229534\n",
       "std        0.036807\n",
       "min        0.107345\n",
       "25%        0.216966\n",
       "50%        0.225941\n",
       "75%        0.238806\n",
       "max        0.423611\n",
       "Name: pn, dtype: float64"
      ]
     },
     "execution_count": 6,
     "metadata": {},
     "output_type": "execute_result"
    }
   ],
   "source": [
    "df.pn.describe()"
   ]
  },
  {
   "cell_type": "markdown",
   "metadata": {},
   "source": [
    "## Verbs "
   ]
  },
  {
   "cell_type": "code",
   "execution_count": 7,
   "metadata": {},
   "outputs": [
    {
     "name": "stdout",
     "output_type": "stream",
     "text": [
      "CPU times: user 50.5 s, sys: 364 ms, total: 50.9 s\n",
      "Wall time: 50.9 s\n"
     ]
    }
   ],
   "source": [
    "%%time\n",
    "\n",
    "df['avs'] = df.text.apply(avs, args=(nlp,))\n",
    "df['pv'] = df.text.apply(pv, args=(nlp,))"
   ]
  },
  {
   "cell_type": "code",
   "execution_count": 8,
   "metadata": {},
   "outputs": [
    {
     "data": {
      "text/plain": [
       "count    465.000000\n",
       "mean       1.428008\n",
       "std        0.441810\n",
       "min        0.130435\n",
       "25%        1.102564\n",
       "50%        1.652174\n",
       "75%        1.652174\n",
       "max        2.811594\n",
       "Name: avs, dtype: float64"
      ]
     },
     "execution_count": 8,
     "metadata": {},
     "output_type": "execute_result"
    }
   ],
   "source": [
    "df.avs.describe()"
   ]
  },
  {
   "cell_type": "code",
   "execution_count": 9,
   "metadata": {},
   "outputs": [
    {
     "data": {
      "text/plain": [
       "count    465.000000\n",
       "mean       0.145635\n",
       "std        0.030320\n",
       "min        0.029703\n",
       "25%        0.124294\n",
       "50%        0.161702\n",
       "75%        0.164818\n",
       "max        0.211864\n",
       "Name: pv, dtype: float64"
      ]
     },
     "execution_count": 9,
     "metadata": {},
     "output_type": "execute_result"
    }
   ],
   "source": [
    "df.pv.describe()"
   ]
  },
  {
   "cell_type": "markdown",
   "metadata": {},
   "source": [
    "## Adjectives"
   ]
  },
  {
   "cell_type": "code",
   "execution_count": 10,
   "metadata": {},
   "outputs": [
    {
     "name": "stdout",
     "output_type": "stream",
     "text": [
      "CPU times: user 51 s, sys: 508 ms, total: 51.5 s\n",
      "Wall time: 51.5 s\n"
     ]
    }
   ],
   "source": [
    "%%time\n",
    "\n",
    "df['aas'] = df.text.apply(aas, args=(nlp,))\n",
    "df['pa'] = df.text.apply(pa, args=(nlp,))"
   ]
  },
  {
   "cell_type": "code",
   "execution_count": 11,
   "metadata": {},
   "outputs": [
    {
     "data": {
      "text/plain": [
       "count    465.000000\n",
       "mean       0.663063\n",
       "std        0.237973\n",
       "min        0.086957\n",
       "25%        0.608696\n",
       "50%        0.608696\n",
       "75%        0.693878\n",
       "max        2.100000\n",
       "Name: aas, dtype: float64"
      ]
     },
     "execution_count": 11,
     "metadata": {},
     "output_type": "execute_result"
    }
   ],
   "source": [
    "df.aas.describe()"
   ]
  },
  {
   "cell_type": "code",
   "execution_count": 12,
   "metadata": {},
   "outputs": [
    {
     "data": {
      "text/plain": [
       "count    465.000000\n",
       "mean       0.068451\n",
       "std        0.018905\n",
       "min        0.014870\n",
       "25%        0.059829\n",
       "50%        0.060086\n",
       "75%        0.076582\n",
       "max        0.193548\n",
       "Name: pa, dtype: float64"
      ]
     },
     "execution_count": 12,
     "metadata": {},
     "output_type": "execute_result"
    }
   ],
   "source": [
    "df.pa.describe()"
   ]
  },
  {
   "cell_type": "markdown",
   "metadata": {},
   "source": [
    "## Prepositions, Conjunctions, and Particles"
   ]
  },
  {
   "cell_type": "code",
   "execution_count": 13,
   "metadata": {},
   "outputs": [
    {
     "name": "stdout",
     "output_type": "stream",
     "text": [
      "CPU times: user 50.6 s, sys: 276 ms, total: 50.9 s\n",
      "Wall time: 50.9 s\n"
     ]
    }
   ],
   "source": [
    "%%time\n",
    "\n",
    "df['apcps'] = df.text.apply(apcps, args=(nlp,))\n",
    "df['ppcp'] = df.text.apply(ppcp, args=(nlp,))"
   ]
  },
  {
   "cell_type": "code",
   "execution_count": 14,
   "metadata": {},
   "outputs": [
    {
     "data": {
      "text/plain": [
       "count    465.000000\n",
       "mean       1.885406\n",
       "std        0.575472\n",
       "min        0.272727\n",
       "25%        1.576923\n",
       "50%        2.043478\n",
       "75%        2.136364\n",
       "max        5.428571\n",
       "Name: apcps, dtype: float64"
      ]
     },
     "execution_count": 14,
     "metadata": {},
     "output_type": "execute_result"
    }
   ],
   "source": [
    "df.apcps.describe()"
   ]
  },
  {
   "cell_type": "code",
   "execution_count": 15,
   "metadata": {},
   "outputs": [
    {
     "data": {
      "text/plain": [
       "count    465.000000\n",
       "mean       0.190279\n",
       "std        0.023623\n",
       "min        0.069307\n",
       "25%        0.181818\n",
       "50%        0.200000\n",
       "75%        0.201717\n",
       "max        0.269504\n",
       "Name: ppcp, dtype: float64"
      ]
     },
     "execution_count": 15,
     "metadata": {},
     "output_type": "execute_result"
    }
   ],
   "source": [
    "df.ppcp.describe()"
   ]
  },
  {
   "cell_type": "markdown",
   "metadata": {},
   "source": [
    "## Negations"
   ]
  },
  {
   "cell_type": "code",
   "execution_count": 16,
   "metadata": {},
   "outputs": [
    {
     "name": "stdout",
     "output_type": "stream",
     "text": [
      "CPU times: user 25.4 s, sys: 208 ms, total: 25.7 s\n",
      "Wall time: 25.7 s\n"
     ]
    }
   ],
   "source": [
    "%%time\n",
    "\n",
    "df['neg'] = df.text.apply(neg, args=(nlp,))"
   ]
  },
  {
   "cell_type": "code",
   "execution_count": 17,
   "metadata": {},
   "outputs": [
    {
     "data": {
      "text/plain": [
       "count    465.000000\n",
       "mean       0.063496\n",
       "std        0.048424\n",
       "min        0.000000\n",
       "25%        0.013889\n",
       "50%        0.086957\n",
       "75%        0.086957\n",
       "max        0.306667\n",
       "Name: neg, dtype: float64"
      ]
     },
     "execution_count": 17,
     "metadata": {},
     "output_type": "execute_result"
    }
   ],
   "source": [
    "df.neg.describe()"
   ]
  },
  {
   "cell_type": "code",
   "execution_count": 18,
   "metadata": {},
   "outputs": [
    {
     "name": "stdout",
     "output_type": "stream",
     "text": [
      "CPU times: user 1.06 ms, sys: 0 ns, total: 1.06 ms\n",
      "Wall time: 999 µs\n"
     ]
    }
   ],
   "source": [
    "%%time\n",
    "\n",
    "def negations(val):\n",
    "    if val == 0:\n",
    "        return 0\n",
    "    return 1\n",
    "\n",
    "df['negations'] = df.neg.apply(negations)"
   ]
  },
  {
   "cell_type": "code",
   "execution_count": 19,
   "metadata": {},
   "outputs": [
    {
     "data": {
      "text/plain": [
       "count    465.000000\n",
       "mean       0.769892\n",
       "std        0.421355\n",
       "min        0.000000\n",
       "25%        1.000000\n",
       "50%        1.000000\n",
       "75%        1.000000\n",
       "max        1.000000\n",
       "Name: negations, dtype: float64"
      ]
     },
     "execution_count": 19,
     "metadata": {},
     "output_type": "execute_result"
    }
   ],
   "source": [
    "df.negations.describe()"
   ]
  },
  {
   "cell_type": "markdown",
   "metadata": {},
   "source": [
    "### Save to pickle file"
   ]
  },
  {
   "cell_type": "code",
   "execution_count": 20,
   "metadata": {},
   "outputs": [],
   "source": [
    "tmp = df[['ans', 'pn', 'avs', 'pv', 'aas', 'pa', 'apcps', 'ppcp', 'neg', 'negations']]\n",
    "tmp.to_pickle('0008_writer_invariant_20220204.pkl')  # 465"
   ]
  },
  {
   "cell_type": "code",
   "execution_count": null,
   "metadata": {},
   "outputs": [],
   "source": []
  }
 ],
 "metadata": {
  "kernelspec": {
   "display_name": "Python 3",
   "language": "python",
   "name": "python3"
  },
  "language_info": {
   "codemirror_mode": {
    "name": "ipython",
    "version": 3
   },
   "file_extension": ".py",
   "mimetype": "text/x-python",
   "name": "python",
   "nbconvert_exporter": "python",
   "pygments_lexer": "ipython3",
   "version": "3.6.3"
  }
 },
 "nbformat": 4,
 "nbformat_minor": 2
}
