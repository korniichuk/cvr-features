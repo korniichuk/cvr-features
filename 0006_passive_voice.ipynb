{
 "cells": [
  {
   "cell_type": "markdown",
   "metadata": {},
   "source": [
    "# 0006 Passive voice"
   ]
  },
  {
   "cell_type": "code",
   "execution_count": 1,
   "metadata": {},
   "outputs": [],
   "source": [
    "import pandas as pd\n",
    "import spacy\n",
    "\n",
    "from features import apvs, pvw"
   ]
  },
  {
   "cell_type": "code",
   "execution_count": 2,
   "metadata": {},
   "outputs": [],
   "source": [
    "df = pd.read_pickle('0005_features_plus_cohesive_devices_20220128.pkl')  # 465"
   ]
  },
  {
   "cell_type": "markdown",
   "metadata": {},
   "source": [
    "* pmw -- Percentage of Multi-character Words\n",
    "* psw -- Percentage of Selling Words\n",
    "* psw2 -- Percentage of Stop Words\n",
    "* pus -- Percentage of Unique Sentences\n",
    "* acds -- Average number of Cohesive Devices (transition words and phrases) per Sentence\n",
    "* cdw -- Number of Cohesive Devices (transition words and phrases) per total number of Words in text\n",
    "* apvs -- Average number of Passive Voice constructions per Sentence (**new**)\n",
    "* pvw -- Number of Passive Voice constructions per total number of Words in text (**new**)\n",
    "* passive_voice -- passive voice (**new**)"
   ]
  },
  {
   "cell_type": "code",
   "execution_count": 3,
   "metadata": {},
   "outputs": [],
   "source": [
    "nlp = spacy.load('en_core_web_lg')"
   ]
  },
  {
   "cell_type": "code",
   "execution_count": 4,
   "metadata": {},
   "outputs": [
    {
     "name": "stdout",
     "output_type": "stream",
     "text": [
      "CPU times: user 52 s, sys: 315 ms, total: 52.3 s\n",
      "Wall time: 52.3 s\n"
     ]
    }
   ],
   "source": [
    "%%time\n",
    "\n",
    "df['apvs'] = df.text.apply(apvs, args=(nlp,))\n",
    "df['pvw'] = df.text.apply(pvw, args=(nlp,))"
   ]
  },
  {
   "cell_type": "code",
   "execution_count": 5,
   "metadata": {},
   "outputs": [
    {
     "data": {
      "text/plain": [
       "count    465.000000\n",
       "mean       0.013682\n",
       "std        0.032097\n",
       "min        0.000000\n",
       "25%        0.000000\n",
       "50%        0.000000\n",
       "75%        0.014085\n",
       "max        0.260870\n",
       "Name: apvs, dtype: float64"
      ]
     },
     "execution_count": 5,
     "metadata": {},
     "output_type": "execute_result"
    }
   ],
   "source": [
    "df.apvs.describe()"
   ]
  },
  {
   "cell_type": "code",
   "execution_count": 6,
   "metadata": {},
   "outputs": [
    {
     "data": {
      "text/plain": [
       "count    465.000000\n",
       "mean       0.001471\n",
       "std        0.003322\n",
       "min        0.000000\n",
       "25%        0.000000\n",
       "50%        0.000000\n",
       "75%        0.001511\n",
       "max        0.026882\n",
       "Name: pvw, dtype: float64"
      ]
     },
     "execution_count": 6,
     "metadata": {},
     "output_type": "execute_result"
    }
   ],
   "source": [
    "df.pvw.describe()"
   ]
  },
  {
   "cell_type": "code",
   "execution_count": 7,
   "metadata": {},
   "outputs": [
    {
     "name": "stdout",
     "output_type": "stream",
     "text": [
      "CPU times: user 1.02 ms, sys: 59 µs, total: 1.08 ms\n",
      "Wall time: 983 µs\n"
     ]
    }
   ],
   "source": [
    "%%time\n",
    "\n",
    "def passive_voice(val):\n",
    "    if val == 0:\n",
    "        return 0\n",
    "    return 1\n",
    "\n",
    "df['passive_voice'] = df.apvs.apply(passive_voice)"
   ]
  },
  {
   "cell_type": "markdown",
   "metadata": {},
   "source": [
    "### Save to pickle file"
   ]
  },
  {
   "cell_type": "code",
   "execution_count": 8,
   "metadata": {},
   "outputs": [],
   "source": [
    "df.to_pickle('0006_features_plus_passive_voice_20220128.pkl')  # 465"
   ]
  },
  {
   "cell_type": "code",
   "execution_count": null,
   "metadata": {},
   "outputs": [],
   "source": []
  }
 ],
 "metadata": {
  "kernelspec": {
   "display_name": "Python 3",
   "language": "python",
   "name": "python3"
  },
  "language_info": {
   "codemirror_mode": {
    "name": "ipython",
    "version": 3
   },
   "file_extension": ".py",
   "mimetype": "text/x-python",
   "name": "python",
   "nbconvert_exporter": "python",
   "pygments_lexer": "ipython3",
   "version": "3.6.3"
  }
 },
 "nbformat": 4,
 "nbformat_minor": 2
}
