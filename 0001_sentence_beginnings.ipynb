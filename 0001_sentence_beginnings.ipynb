{
 "cells": [
  {
   "cell_type": "markdown",
   "metadata": {},
   "source": [
    "# 0001 Sentence beginnings index (aka RKMB)"
   ]
  },
  {
   "cell_type": "code",
   "execution_count": 1,
   "metadata": {},
   "outputs": [],
   "source": [
    "import pandas as pd\n",
    "\n",
    "from features import rkmb1, rkmb2"
   ]
  },
  {
   "cell_type": "code",
   "execution_count": 2,
   "metadata": {},
   "outputs": [],
   "source": [
    "df = pd.read_pickle('0000_features_20201124.pkl')  # 465"
   ]
  },
  {
   "cell_type": "code",
   "execution_count": 3,
   "metadata": {},
   "outputs": [
    {
     "name": "stdout",
     "output_type": "stream",
     "text": [
      "CPU times: user 988 ms, sys: 0 ns, total: 988 ms\n",
      "Wall time: 988 ms\n"
     ]
    }
   ],
   "source": [
    "%%time\n",
    "\n",
    "df['rkmb1'] = df.text.apply(rkmb1)"
   ]
  },
  {
   "cell_type": "code",
   "execution_count": 4,
   "metadata": {},
   "outputs": [
    {
     "name": "stdout",
     "output_type": "stream",
     "text": [
      "CPU times: user 1.02 s, sys: 0 ns, total: 1.02 s\n",
      "Wall time: 1.02 s\n"
     ]
    }
   ],
   "source": [
    "%%time\n",
    "\n",
    "df['rkmb2'] = df.text.apply(rkmb2)"
   ]
  },
  {
   "cell_type": "code",
   "execution_count": 5,
   "metadata": {},
   "outputs": [
    {
     "data": {
      "text/plain": [
       "count    465.000000\n",
       "mean       0.915500\n",
       "std        0.020968\n",
       "min        0.768595\n",
       "25%        0.909871\n",
       "50%        0.918455\n",
       "75%        0.922591\n",
       "max        1.000000\n",
       "Name: rkmb1, dtype: float64"
      ]
     },
     "execution_count": 5,
     "metadata": {},
     "output_type": "execute_result"
    }
   ],
   "source": [
    "df.rkmb1.describe()"
   ]
  },
  {
   "cell_type": "code",
   "execution_count": 6,
   "metadata": {},
   "outputs": [
    {
     "data": {
      "text/plain": [
       "count    465.000000\n",
       "mean       0.991121\n",
       "std        0.003947\n",
       "min        0.972219\n",
       "25%        0.990233\n",
       "50%        0.990323\n",
       "75%        0.993561\n",
       "max        1.000000\n",
       "Name: rkmb2, dtype: float64"
      ]
     },
     "execution_count": 6,
     "metadata": {},
     "output_type": "execute_result"
    }
   ],
   "source": [
    "df.rkmb2.describe()"
   ]
  },
  {
   "cell_type": "markdown",
   "metadata": {},
   "source": [
    "### Save to pickle file"
   ]
  },
  {
   "cell_type": "code",
   "execution_count": 7,
   "metadata": {},
   "outputs": [],
   "source": [
    "tmp = df[['rkmb1', 'rkmb2']]\n",
    "tmp.to_pickle('0001_sentence_beginnings_20220130.pkl')  # 465"
   ]
  },
  {
   "cell_type": "markdown",
   "metadata": {},
   "source": [
    "## Tests"
   ]
  },
  {
   "cell_type": "markdown",
   "metadata": {},
   "source": [
    "### v1"
   ]
  },
  {
   "cell_type": "code",
   "execution_count": 8,
   "metadata": {},
   "outputs": [],
   "source": [
    "S1 = 'Abc. Bcd. Abc. Bcd. Abc. Bcd. Abc.'  # 1 - 0/8 = 1\n",
    "S2 = 'Abc. Bcd. Abc. Bcd. Abc. Bcd. Bcd.'  # 1 - 2/7 = ~0.7143\n",
    "S3 = 'Abc. Abc. Bcd. Abc. Abc. Bcd. Abc.'  # 1 - 4/7 = ~0.4286\n",
    "S4 = 'Abc. Bcd. Abc. Abc. Abc.'  # 1 - 3/5 = 0.4\n",
    "S5 = 'Abc. Bcd. Bcd. Abc. Abc. Abc.'  # 1 - 5/6 = ~0.1667\n",
    "S6 = 'Bcd. Abc. Abc. Abc. Abc.'  # 1 - 4/5 = 0.2\n",
    "S7 = 'Abc. Abc. Abc. Abc.'  # 1 - 4/4 = 0"
   ]
  },
  {
   "cell_type": "code",
   "execution_count": 9,
   "metadata": {},
   "outputs": [
    {
     "data": {
      "text/plain": [
       "0.2"
      ]
     },
     "execution_count": 9,
     "metadata": {},
     "output_type": "execute_result"
    }
   ],
   "source": [
    "rkmb1(S6)"
   ]
  },
  {
   "cell_type": "markdown",
   "metadata": {},
   "source": [
    "### v2"
   ]
  },
  {
   "cell_type": "code",
   "execution_count": 10,
   "metadata": {},
   "outputs": [],
   "source": [
    "S1 = 'Abc. Bcd. Abc. Bcd. Abc. Bcd. Abc.'  # 1.0\n",
    "S2 = 'Abc. Bcd. Abc. Bcd. Abc. Bcd. Bcd.'  # 0.7142857142857143\n",
    "S3 = 'Abc. Abc. Bcd. Abc. Abc. Bcd. Abc.'  # 0.6\n",
    "S4 = 'Abc. Bcd. Abc. Abc. Abc.'  # 0.4\n",
    "S5 = 'Abc. Bcd. Bcd. Abc. Abc. Abc.'  # 0.2916666666666667\n",
    "S6 = 'Bcd. Abc. Abc. Abc. Abc.'  #  0.2\n",
    "S7 = 'Abc. Abc. Abc. Abc.'  # 0.0"
   ]
  },
  {
   "cell_type": "code",
   "execution_count": 11,
   "metadata": {},
   "outputs": [
    {
     "data": {
      "text/plain": [
       "0.2"
      ]
     },
     "execution_count": 11,
     "metadata": {},
     "output_type": "execute_result"
    }
   ],
   "source": [
    "rkmb2(S6)"
   ]
  },
  {
   "cell_type": "code",
   "execution_count": null,
   "metadata": {},
   "outputs": [],
   "source": []
  }
 ],
 "metadata": {
  "kernelspec": {
   "display_name": "Python 3",
   "language": "python",
   "name": "python3"
  },
  "language_info": {
   "codemirror_mode": {
    "name": "ipython",
    "version": 3
   },
   "file_extension": ".py",
   "mimetype": "text/x-python",
   "name": "python",
   "nbconvert_exporter": "python",
   "pygments_lexer": "ipython3",
   "version": "3.6.3"
  }
 },
 "nbformat": 4,
 "nbformat_minor": 2
}
