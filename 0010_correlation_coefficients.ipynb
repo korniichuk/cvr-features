{
 "cells": [
  {
   "cell_type": "markdown",
   "metadata": {},
   "source": [
    "# 0010 Correlation coefficients"
   ]
  },
  {
   "cell_type": "code",
   "execution_count": 1,
   "metadata": {},
   "outputs": [],
   "source": [
    "import pandas as pd\n",
    "\n",
    "pd.set_option('display.max_rows', None)"
   ]
  },
  {
   "cell_type": "code",
   "execution_count": 2,
   "metadata": {},
   "outputs": [],
   "source": [
    "features = pd.read_pickle('0000_features_20201124.pkl')"
   ]
  },
  {
   "cell_type": "code",
   "execution_count": 3,
   "metadata": {},
   "outputs": [],
   "source": [
    "sentence_beginnings = pd.read_pickle('0001_sentence_beginnings_20220130.pkl')\n",
    "stop_words = pd.read_pickle('0002_stop_words_20220130.pkl')\n",
    "sentiment = pd.read_pickle('0003_sentiment_20220130.pkl')\n",
    "unique_sentences = pd.read_pickle('0004_unique_sentences_20220130.pkl')\n",
    "cohesive_devices = pd.read_pickle('0005_cohesive_devices_20220130.pkl')\n",
    "passive_voice = pd.read_pickle('0006_passive_voice_20220130.pkl')\n",
    "grammar_mistakes = pd.read_pickle('0007_grammar_mistakes_20220130.pkl')\n",
    "writer_invariant = pd.read_pickle('0008_writer_invariant_20220204.pkl')\n",
    "uppercase = pd.read_pickle('0009_uppercase_20220222.pkl')"
   ]
  },
  {
   "cell_type": "code",
   "execution_count": 4,
   "metadata": {},
   "outputs": [],
   "source": [
    "df = pd.concat([features,\n",
    "                sentence_beginnings,\n",
    "                stop_words,\n",
    "                sentiment,\n",
    "                unique_sentences,\n",
    "                cohesive_devices,\n",
    "                passive_voice,\n",
    "                grammar_mistakes,\n",
    "                writer_invariant,\n",
    "                uppercase\n",
    "               ], axis=1)"
   ]
  },
  {
   "cell_type": "code",
   "execution_count": 5,
   "metadata": {},
   "outputs": [],
   "source": [
    "df.to_pickle('features_20220222.pkl')  # 465"
   ]
  },
  {
   "cell_type": "code",
   "execution_count": 6,
   "metadata": {
    "scrolled": true
   },
   "outputs": [
    {
     "data": {
      "text/plain": [
       "Index(['text', 'language', 'views', 'conversions', 'cvr', 'label', 'ari_score',\n",
       "       'ari_class', 'bormuth_score', 'bormuth_class', 'coleman_liau_score',\n",
       "       'coleman_liau_class', 'new_dale_chall_score', 'new_dale_chall_class',\n",
       "       'flesch_score', 'flesch_class', 'flesch_kincaid_score',\n",
       "       'flesch_kincaid_class', 'fog_score', 'fog_class', 'lix_score',\n",
       "       'lix_class', 'rix_score', 'rix_class', 'smog_score', 'smog_class',\n",
       "       'strain_score', 'strain_class', 'readability_score', 'asl_flesch',\n",
       "       'asw_flesch', 'asl_fog', 'ppw_fog', 'pew', 'pdw', 'pmw', 'ppw', 'psw',\n",
       "       'puw', 'acs', 'ass', 'aws', 'acw', 'asw', 'sentences', 'words',\n",
       "       'characters', 'syllables', 'rkmb1', 'rkmb2', 'psw2', 'sentiment',\n",
       "       'sentiment_discrete', 'pus', 'acds', 'cdw', 'apvs', 'pvw',\n",
       "       'passive_voice', 'grammar_mistakes', 'agms', 'gmw', 'ans', 'pn', 'avs',\n",
       "       'pv', 'aas', 'pa', 'apcps', 'ppcp', 'neg', 'negations', 'aus', 'pu'],\n",
       "      dtype='object')"
      ]
     },
     "execution_count": 6,
     "metadata": {},
     "output_type": "execute_result"
    }
   ],
   "source": [
    "df.columns"
   ]
  },
  {
   "cell_type": "markdown",
   "metadata": {},
   "source": [
    "* pmw -- Percentage of Multicharacter Words\n",
    "* psw -- Percentage of Selling Words\n",
    "\n",
    "\n",
    "* rkmb1 -- RKMB ver. 1. (**new**)\n",
    "* rkmb2 -- RKMB ver. 2. (**new**)\n",
    "\n",
    "\n",
    "* psw2 -- Percentage of Stop Words (**new**)\n",
    "\n",
    "\n",
    "* sentiment -- sentiment (**new**)\n",
    "* sentiment_discrete -- sentiment as discrete value (**new**)\n",
    "\n",
    "\n",
    "* pus -- Percentage of Unique Sentences (**new**)\n",
    "\n",
    "\n",
    "* acds -- Average number of Cohesive Devices (transition words and phrases) per Sentence (**new**)\n",
    "* cdw -- Number of Cohesive Devices (transition words and phrases) per total number of Words in text (**new**)\n",
    "\n",
    "\n",
    "* apvs -- Average number of Passive Voice constructions per Sentence (**new**)\n",
    "* pvw -- Number of Passive Voice constructions per total number of Words in text (**new**)\n",
    "* passive_voice -- passive voice (**new**)\n",
    "\n",
    "\n",
    "* grammar_mistakes -- number of grammar mistakes (**new**)\n",
    "* agms -- Average number of Grammar Mistakes per Sentence (**new**)\n",
    "* gmw -- Number of Grammar Mistakes per total number of Words in text (**new**)\n",
    "\n",
    "\n",
    "* ans -- Average number of Nouns per Sentence (**new**)\n",
    "* pn -- Percentage of Nouns in text (**new**)\n",
    "* avs -- Average number of Verbs per Sentence (**new**)\n",
    "* pv -- Percentage of Verbs in text (**new**)\n",
    "* aas -- Average number of Adjectives per Sentence (**new**)\n",
    "* pa -- Percentage of Adjectives in text (**new**)\n",
    "* apcps -- Average number of Prepositions, Conjunctions, and Particles per Sentence (**new**)\n",
    "* ppcp -- Percentage of Prepositions, Conjunctions, and Particles in text (**new**)\n",
    "* neg -- average number of negations per sentence (**new**)\n",
    "* negations -- negation(s) in text yes/no (**new**)\n",
    "\n",
    "* aus -- Average number of Uppercase words per Sentence (**new**)\n",
    "* pu -- Percentage of Uppercase words in text (**new**)"
   ]
  },
  {
   "cell_type": "markdown",
   "metadata": {},
   "source": [
    "`0.0 - 0.09` no correlation  \n",
    "`0.1 - 0.3` low  \n",
    "`0.3 - 0.5` medium   \n",
    "`0.5 - 1.0` high"
   ]
  },
  {
   "cell_type": "code",
   "execution_count": 7,
   "metadata": {},
   "outputs": [
    {
     "data": {
      "text/plain": [
       "cvr                     1.000000\n",
       "puw                     0.340194\n",
       "rkmb2                   0.287256\n",
       "sentences               0.265740\n",
       "conversions             0.253485\n",
       "neg                     0.249363\n",
       "grammar_mistakes        0.248867\n",
       "avs                     0.238150\n",
       "pv                      0.228344\n",
       "passive_voice           0.220344\n",
       "pus                     0.214225\n",
       "pa                      0.198621\n",
       "characters              0.195236\n",
       "syllables               0.191222\n",
       "ppcp                    0.185119\n",
       "negations               0.183836\n",
       "words                   0.181639\n",
       "pdw                     0.176888\n",
       "new_dale_chall_score    0.172655\n",
       "apcps                   0.155503\n",
       "views                   0.151336\n",
       "acds                    0.145142\n",
       "label                   0.144629\n",
       "psw2                    0.142852\n",
       "new_dale_chall_class    0.141998\n",
       "cdw                     0.129778\n",
       "pvw                     0.128712\n",
       "asl_fog                 0.117052\n",
       "aws                     0.117052\n",
       "pu                      0.113765\n",
       "gmw                     0.110997\n",
       "apvs                    0.109230\n",
       "ppw                     0.103137\n",
       "strain_score            0.102520\n",
       "asw_flesch              0.100058\n",
       "acs                     0.094312\n",
       "ass                     0.094268\n",
       "pew                     0.094010\n",
       "rix_score               0.088283\n",
       "acw                     0.085432\n",
       "agms                    0.083390\n",
       "flesch_score            0.083050\n",
       "aus                     0.081520\n",
       "flesch_class            0.076434\n",
       "asl_flesch              0.069256\n",
       "pmw                     0.068851\n",
       "ans                     0.068259\n",
       "aas                     0.062816\n",
       "pn                      0.060295\n",
       "flesch_kincaid_class    0.058057\n",
       "fog_score               0.056841\n",
       "asw                     0.055716\n",
       "lix_class               0.054829\n",
       "coleman_liau_class      0.054053\n",
       "bormuth_score           0.043023\n",
       "fog_class               0.039185\n",
       "ari_score               0.037222\n",
       "strain_class            0.037076\n",
       "flesch_kincaid_score    0.034690\n",
       "ppw_fog                 0.029079\n",
       "smog_score              0.025418\n",
       "coleman_liau_score      0.024759\n",
       "sentiment_discrete      0.020771\n",
       "readability_score       0.018520\n",
       "rix_class               0.013260\n",
       "psw                     0.013047\n",
       "smog_class              0.010901\n",
       "ari_class               0.006764\n",
       "bormuth_class           0.006660\n",
       "lix_score               0.006263\n",
       "rkmb1                   0.004578\n",
       "Name: cvr, dtype: float64"
      ]
     },
     "execution_count": 7,
     "metadata": {},
     "output_type": "execute_result"
    }
   ],
   "source": [
    "df.corr(method='pearson')['cvr'].abs().sort_values(ascending=False)  # pearson | spearman | kendall"
   ]
  },
  {
   "cell_type": "code",
   "execution_count": 8,
   "metadata": {},
   "outputs": [
    {
     "data": {
      "text/plain": [
       "rkmb2                  -0.287256\n",
       "sentences              -0.265740\n",
       "grammar_mistakes       -0.248867\n",
       "passive_voice          -0.220344\n",
       "pa                     -0.198621\n",
       "characters             -0.195236\n",
       "syllables              -0.191222\n",
       "words                  -0.181639\n",
       "pdw                    -0.176888\n",
       "new_dale_chall_score   -0.172655\n",
       "views                  -0.151336\n",
       "label                  -0.144629\n",
       "new_dale_chall_class   -0.141998\n",
       "pvw                    -0.128712\n",
       "pu                     -0.113765\n",
       "gmw                    -0.110997\n",
       "apvs                   -0.109230\n",
       "ppw                    -0.103137\n",
       "asw_flesch             -0.100058\n",
       "pew                    -0.094010\n",
       "acw                    -0.085432\n",
       "agms                   -0.083390\n",
       "aus                    -0.081520\n",
       "flesch_class           -0.076434\n",
       "pmw                    -0.068851\n",
       "aas                    -0.062816\n",
       "pn                     -0.060295\n",
       "asw                    -0.055716\n",
       "bormuth_score          -0.043023\n",
       "fog_class              -0.039185\n",
       "ari_score              -0.037222\n",
       "strain_class           -0.037076\n",
       "flesch_kincaid_score   -0.034690\n",
       "ppw_fog                -0.029079\n",
       "smog_score             -0.025418\n",
       "coleman_liau_score     -0.024759\n",
       "sentiment_discrete     -0.020771\n",
       "readability_score      -0.018520\n",
       "rix_class              -0.013260\n",
       "psw                    -0.013047\n",
       "smog_class             -0.010901\n",
       "bormuth_class          -0.006660\n",
       "lix_score              -0.006263\n",
       "rkmb1                  -0.004578\n",
       "ari_class               0.006764\n",
       "coleman_liau_class      0.054053\n",
       "lix_class               0.054829\n",
       "fog_score               0.056841\n",
       "flesch_kincaid_class    0.058057\n",
       "ans                     0.068259\n",
       "asl_flesch              0.069256\n",
       "flesch_score            0.083050\n",
       "rix_score               0.088283\n",
       "ass                     0.094268\n",
       "acs                     0.094312\n",
       "strain_score            0.102520\n",
       "aws                     0.117052\n",
       "asl_fog                 0.117052\n",
       "cdw                     0.129778\n",
       "psw2                    0.142852\n",
       "acds                    0.145142\n",
       "apcps                   0.155503\n",
       "negations               0.183836\n",
       "ppcp                    0.185119\n",
       "pus                     0.214225\n",
       "pv                      0.228344\n",
       "avs                     0.238150\n",
       "neg                     0.249363\n",
       "conversions             0.253485\n",
       "puw                     0.340194\n",
       "cvr                     1.000000\n",
       "Name: cvr, dtype: float64"
      ]
     },
     "execution_count": 8,
     "metadata": {},
     "output_type": "execute_result"
    }
   ],
   "source": [
    "df.corr(method='pearson').cvr.sort_values()  # pearson | spearman | kendall"
   ]
  },
  {
   "cell_type": "code",
   "execution_count": null,
   "metadata": {},
   "outputs": [],
   "source": []
  }
 ],
 "metadata": {
  "kernelspec": {
   "display_name": "Python 3",
   "language": "python",
   "name": "python3"
  },
  "language_info": {
   "codemirror_mode": {
    "name": "ipython",
    "version": 3
   },
   "file_extension": ".py",
   "mimetype": "text/x-python",
   "name": "python",
   "nbconvert_exporter": "python",
   "pygments_lexer": "ipython3",
   "version": "3.6.3"
  }
 },
 "nbformat": 4,
 "nbformat_minor": 2
}
